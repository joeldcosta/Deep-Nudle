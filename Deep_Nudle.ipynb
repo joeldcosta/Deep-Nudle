{
  "nbformat": 4,
  "nbformat_minor": 0,
  "metadata": {
    "colab": {
      "name": "Deep Nudle.ipynb",
      "provenance": [],
      "collapsed_sections": [
        "OGgAb8LsPNJB"
      ],
      "authorship_tag": "ABX9TyM396sFqv/+vL+OAS6umMq7",
      "include_colab_link": true
    },
    "kernelspec": {
      "name": "python3",
      "display_name": "Python 3"
    },
    "language_info": {
      "name": "python"
    }
  },
  "cells": [
    {
      "cell_type": "markdown",
      "metadata": {
        "id": "view-in-github",
        "colab_type": "text"
      },
      "source": [
        "<a href=\"https://colab.research.google.com/github/joeldcosta/Deep-Nudle/blob/main/Deep_Nudle.ipynb\" target=\"_parent\"><img src=\"https://colab.research.google.com/assets/colab-badge.svg\" alt=\"Open In Colab\"/></a>"
      ]
    },
    {
      "cell_type": "markdown",
      "source": [
        "# Run 1. DeepNudle With Simple Deepfake \n",
        "```\n",
        "#Original Repository (Google Repo).\n",
        "!git clone \"https://github.com/gorpo/SIMPLE-Deepfake-Google-Colab\"\n",
        "```"
      ],
      "metadata": {
        "id": "OGgAb8LsPNJB"
      }
    },
    {
      "cell_type": "code",
      "source": [
        "#@title Clone Repository (My Repo incase the above causing error)\n",
        "!git clone \"https://github.com/joeldcosta/SIMPLE-Deepfake-Google-Colab\""
      ],
      "metadata": {
        "cellView": "form",
        "id": "qp0veIa7zkcY"
      },
      "execution_count": null,
      "outputs": []
    },
    {
      "cell_type": "markdown",
      "source": [
        "# Run 2. Download library from http://archive.org/download/deepfake\n"
      ],
      "metadata": {
        "id": "AZpVZan_EuFy"
      }
    },
    {
      "cell_type": "code",
      "source": [
        "#@title ## - **This will take some time so get a coffee and buy me one.**\n",
        "%%html\n",
        "<a href=\"https://www.buymeacoffee.com/python4fun\" target=\"_blank\"><img src=\"https://img.buymeacoffee.com/button-api/?text=Buy me a Coffee&emoji=🍺&slug=python4fun&button_colour=FFDD00&font_colour=000000&font_family=Cookie&outline_colour=000000&coffee_colour=ffffff\" width=20%></a>\n"
      ],
      "metadata": {
        "colab": {
          "base_uri": "https://localhost:8080/",
          "height": 60
        },
        "cellView": "form",
        "id": "4OMIbAF2JR5y",
        "outputId": "7978696a-a00f-4d1a-d34f-b9cb349347e5"
      },
      "execution_count": 39,
      "outputs": [
        {
          "output_type": "display_data",
          "data": {
            "text/plain": [
              "<IPython.core.display.HTML object>"
            ],
            "text/html": [
              "<a href=\"https://www.buymeacoffee.com/python4fun\" target=\"_blank\"><img src=\"https://img.buymeacoffee.com/button-api/?text=Buy me a Coffee&emoji=🍺&slug=python4fun&button_colour=FFDD00&font_colour=000000&font_family=Cookie&outline_colour=000000&coffee_colour=ffffff\" width=20%></a>"
            ]
          },
          "metadata": {}
        }
      ]
    },
    {
      "cell_type": "code",
      "source": [
        "#@title Downloading Library in checkpoint folder. \n",
        "!wget -c -P /content/SIMPLE-Deepfake-Google-Colab/checkpoint http://archive.org/download/deepfake/cm.lib\n",
        "!wget -c -P /content/SIMPLE-Deepfake-Google-Colab/checkpoint http://archive.org/download/deepfake/mm.lib\n",
        "!wget -c -P /content/SIMPLE-Deepfake-Google-Colab/checkpoint http://archive.org/download/deepfake/mn.lib"
      ],
      "metadata": {
        "cellView": "form",
        "id": "xhQztY79EWzV"
      },
      "execution_count": null,
      "outputs": []
    },
    {
      "cell_type": "markdown",
      "source": [
        "# Run 3. Upload Image from Web [Open cell if hidden]"
      ],
      "metadata": {
        "id": "TdrY3al5PqJP"
      }
    },
    {
      "cell_type": "code",
      "source": [
        "#@title Please Enter Image URL\n",
        "import requests\n",
        "#url = input(\"Enter Image URL Here:- \") \n",
        "url = \"\" #@param {type:\"string\"}\n",
        "r = requests.get(url)\n",
        "with open('/content/SIMPLE-Deepfake-Google-Colab/images/file.jpg','wb') as f:\n",
        "     f.write(r.content)"
      ],
      "metadata": {
        "cellView": "form",
        "id": "hJGa4SBmJ_cK"
      },
      "execution_count": 28,
      "outputs": []
    },
    {
      "cell_type": "markdown",
      "source": [
        "# OR (if above done then skip)\n",
        "#Upload Image From Your Computer Locally"
      ],
      "metadata": {
        "id": "IwcxUlrlPzoD"
      }
    },
    {
      "cell_type": "code",
      "source": [
        "#@title Please Choose Your Image \n",
        "from google.colab import files\n",
        "import shutil\n",
        "uploaded = files.upload()\n",
        "for fm in uploaded.keys():\n",
        "     print(\"User uploaded file '{name}' with length {length} bytes\".format(name=fm, length=len(uploaded[fm])))\n",
        "     shutil.move(fm, '/content/SIMPLE-Deepfake-Google-Colab/images/file.jpg')\n"
      ],
      "metadata": {
        "cellView": "form",
        "id": "UbELQiSrKTml"
      },
      "execution_count": null,
      "outputs": []
    },
    {
      "cell_type": "markdown",
      "source": [
        "\n",
        "\n",
        "---\n",
        "\n"
      ],
      "metadata": {
        "id": "RMwlQSTK3F3t"
      }
    },
    {
      "cell_type": "markdown",
      "source": [
        "# Run 4. View Original Image Here "
      ],
      "metadata": {
        "id": "MHFkCbBZQCZQ"
      }
    },
    {
      "cell_type": "code",
      "source": [
        "#@title View Original\n",
        "from google.colab.patches import cv2_imshow\n",
        "import cv2\n",
        "images = cv2.imread('/content/SIMPLE-Deepfake-Google-Colab/images/file.jpg')\n",
        "\n",
        "scale = 60\n",
        "width = int(images.shape[1] * scale / 100)\n",
        "height = int(images.shape[0] * scale / 100)\n",
        "dimension = (width, height)\n",
        "redimension = cv2.resize(images, dimension, interpolation = cv2.INTER_AREA)\n",
        "cv2_imshow(redimension)"
      ],
      "metadata": {
        "cellView": "form",
        "id": "dhWwHbogKp-W"
      },
      "execution_count": null,
      "outputs": []
    },
    {
      "cell_type": "markdown",
      "source": [
        "# Run 5. Generate Deep Nudle from Deepfake.py"
      ],
      "metadata": {
        "id": "Cc_9wU1jQoTw"
      }
    },
    {
      "cell_type": "code",
      "source": [
        "#@title Generating Deep Nudle\n",
        "import os   \n",
        "output = os.popen('python /content/SIMPLE-Deepfake-Google-Colab/deepfake.py').read()\n",
        "print(output)"
      ],
      "metadata": {
        "cellView": "form",
        "id": "ZNgtsRuRKxmt"
      },
      "execution_count": null,
      "outputs": []
    },
    {
      "cell_type": "markdown",
      "source": [
        "#🟢 Run 6. View Image as BLUR for Safety "
      ],
      "metadata": {
        "id": "PXt2xDZ7UEda"
      }
    },
    {
      "cell_type": "code",
      "source": [
        "#@title Blur Image Setting\n",
        "from PIL import Image, ImageFilter\n",
        "\n",
        "blr = \"Gaussian Blur\" #@param [\"Box Blur\", \"Gaussian Blur\"]\n",
        "\n",
        "if \"Box Blur\" in blr:\n",
        "  blr_B = True \n",
        "  blr_G = False\n",
        "if \"Gaussian Blur\" in blr:\n",
        "  blr_G = True \n",
        "  blr_B = False\n",
        "\n",
        "print(blr)\n",
        "#blr_B = False #@param {type:\"boolean\"}\n",
        "#blr_G = True #@param {type:\"boolean\"}\n",
        "\n",
        "#Open existing image\n",
        "OriImage = Image.open('/content/SIMPLE-Deepfake-Google-Colab/images/renderizada.jpg')\n",
        "\n",
        "# Options ##########################################\n",
        "blur_ = 15#@param {type:\"number\"}\n",
        "if blr_B:\n",
        "  #Applying BoxBlur filter\n",
        "  blr_B  = OriImage.filter(ImageFilter.BoxBlur(blur_))\n",
        "  #Save image\n",
        "  blr_B.save('/content/SIMPLE-Deepfake-Google-Colab/images/blurImage.jpg')\n",
        "if blr_G:\n",
        "  #Applying GaussianBlur filter\n",
        "  blr_G = OriImage.filter(ImageFilter.GaussianBlur(blur_))\n",
        "  #Save image\n",
        "  blr_G.save('/content/SIMPLE-Deepfake-Google-Colab/images/blurImage.jpg')\n",
        "\n",
        "#####################################################\n",
        "\n",
        "\n",
        "from google.colab.patches import cv2_imshow\n",
        "import cv2\n",
        "images = cv2.imread('/content/SIMPLE-Deepfake-Google-Colab/images/blurImage.jpg')\n",
        "\n",
        "scale = 60\n",
        "width = int(images.shape[1] * scale / 100)\n",
        "height = int(images.shape[0] * scale / 100)\n",
        "dimension = (width, height)\n",
        "redimension = cv2.resize(images, dimension, interpolation = cv2.INTER_AREA)\n",
        "cv2_imshow(redimension)"
      ],
      "metadata": {
        "cellView": "form",
        "id": "YpDdpMi8ShZi"
      },
      "execution_count": null,
      "outputs": []
    },
    {
      "cell_type": "markdown",
      "source": [
        "#🔞 Run 7. View Full Nudle Image "
      ],
      "metadata": {
        "id": "a2SoRqeuQvGP"
      }
    },
    {
      "cell_type": "code",
      "source": [
        "#@title View Deep Nudle [Uncensored]\n",
        "from google.colab.patches import cv2_imshow\n",
        "import cv2\n",
        "\n",
        "images = cv2.imread('/content/SIMPLE-Deepfake-Google-Colab/images/renderizada.jpg')\n",
        "\n",
        "scale = 60\n",
        "width = int(images.shape[1] * scale / 100)\n",
        "height = int(images.shape[0] * scale / 100)\n",
        "dimension = (width, height)\n",
        "redimension = cv2.resize(images, dimension, interpolation = cv2.INTER_AREA)\n",
        "cv2_imshow(redimension)"
      ],
      "metadata": {
        "cellView": "form",
        "id": "67YqiDYwK8p8"
      },
      "execution_count": null,
      "outputs": []
    },
    {
      "cell_type": "markdown",
      "source": [
        "# Run 8. Download Nudle Image"
      ],
      "metadata": {
        "id": "vwsyZIJk7yvj"
      }
    },
    {
      "cell_type": "code",
      "source": [
        "#@title Download Image [Blue & 18+]\n",
        "from google.colab import files as FILE\n",
        "\n",
        "FILE.download('/content/SIMPLE-Deepfake-Google-Colab/images/renderizada.jpg')\n",
        "FILE.download('/content/SIMPLE-Deepfake-Google-Colab/images/blurImage.jpg')"
      ],
      "metadata": {
        "colab": {
          "base_uri": "https://localhost:8080/",
          "height": 17
        },
        "cellView": "form",
        "id": "lWAvC78O8-i4",
        "outputId": "2d0dc010-f71f-4a2e-9323-fb0af03ff187"
      },
      "execution_count": 35,
      "outputs": [
        {
          "output_type": "display_data",
          "data": {
            "text/plain": [
              "<IPython.core.display.Javascript object>"
            ],
            "application/javascript": [
              "\n",
              "    async function download(id, filename, size) {\n",
              "      if (!google.colab.kernel.accessAllowed) {\n",
              "        return;\n",
              "      }\n",
              "      const div = document.createElement('div');\n",
              "      const label = document.createElement('label');\n",
              "      label.textContent = `Downloading \"${filename}\": `;\n",
              "      div.appendChild(label);\n",
              "      const progress = document.createElement('progress');\n",
              "      progress.max = size;\n",
              "      div.appendChild(progress);\n",
              "      document.body.appendChild(div);\n",
              "\n",
              "      const buffers = [];\n",
              "      let downloaded = 0;\n",
              "\n",
              "      const channel = await google.colab.kernel.comms.open(id);\n",
              "      // Send a message to notify the kernel that we're ready.\n",
              "      channel.send({})\n",
              "\n",
              "      for await (const message of channel.messages) {\n",
              "        // Send a message to notify the kernel that we're ready.\n",
              "        channel.send({})\n",
              "        if (message.buffers) {\n",
              "          for (const buffer of message.buffers) {\n",
              "            buffers.push(buffer);\n",
              "            downloaded += buffer.byteLength;\n",
              "            progress.value = downloaded;\n",
              "          }\n",
              "        }\n",
              "      }\n",
              "      const blob = new Blob(buffers, {type: 'application/binary'});\n",
              "      const a = document.createElement('a');\n",
              "      a.href = window.URL.createObjectURL(blob);\n",
              "      a.download = filename;\n",
              "      div.appendChild(a);\n",
              "      a.click();\n",
              "      div.remove();\n",
              "    }\n",
              "  "
            ]
          },
          "metadata": {}
        },
        {
          "output_type": "display_data",
          "data": {
            "text/plain": [
              "<IPython.core.display.Javascript object>"
            ],
            "application/javascript": [
              "download(\"download_d4a52887-347b-488d-a051-a69e543c260e\", \"renderizada.jpg\", 664022)"
            ]
          },
          "metadata": {}
        },
        {
          "output_type": "display_data",
          "data": {
            "text/plain": [
              "<IPython.core.display.Javascript object>"
            ],
            "application/javascript": [
              "\n",
              "    async function download(id, filename, size) {\n",
              "      if (!google.colab.kernel.accessAllowed) {\n",
              "        return;\n",
              "      }\n",
              "      const div = document.createElement('div');\n",
              "      const label = document.createElement('label');\n",
              "      label.textContent = `Downloading \"${filename}\": `;\n",
              "      div.appendChild(label);\n",
              "      const progress = document.createElement('progress');\n",
              "      progress.max = size;\n",
              "      div.appendChild(progress);\n",
              "      document.body.appendChild(div);\n",
              "\n",
              "      const buffers = [];\n",
              "      let downloaded = 0;\n",
              "\n",
              "      const channel = await google.colab.kernel.comms.open(id);\n",
              "      // Send a message to notify the kernel that we're ready.\n",
              "      channel.send({})\n",
              "\n",
              "      for await (const message of channel.messages) {\n",
              "        // Send a message to notify the kernel that we're ready.\n",
              "        channel.send({})\n",
              "        if (message.buffers) {\n",
              "          for (const buffer of message.buffers) {\n",
              "            buffers.push(buffer);\n",
              "            downloaded += buffer.byteLength;\n",
              "            progress.value = downloaded;\n",
              "          }\n",
              "        }\n",
              "      }\n",
              "      const blob = new Blob(buffers, {type: 'application/binary'});\n",
              "      const a = document.createElement('a');\n",
              "      a.href = window.URL.createObjectURL(blob);\n",
              "      a.download = filename;\n",
              "      div.appendChild(a);\n",
              "      a.click();\n",
              "      div.remove();\n",
              "    }\n",
              "  "
            ]
          },
          "metadata": {}
        },
        {
          "output_type": "display_data",
          "data": {
            "text/plain": [
              "<IPython.core.display.Javascript object>"
            ],
            "application/javascript": [
              "download(\"download_3e3b898b-ea07-4833-a0b6-87fc7331b722\", \"blurImage.jpg\", 13715)"
            ]
          },
          "metadata": {}
        }
      ]
    }
  ]
}